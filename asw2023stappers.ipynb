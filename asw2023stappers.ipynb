{
 "cells": [
  {
   "cell_type": "markdown",
   "id": "0ac59e5f",
   "metadata": {
    "slideshow": {
     "slide_type": "slide"
    }
   },
   "source": [
    "# Experience with using Github for Harmonie\n",
    "\n",
    "## Roel Stappers\n",
    "Met Norway (roels@met.no) \n",
    "\n",
    "ASW 2023 Tallinn"
   ]
  },
  {
   "cell_type": "markdown",
   "id": "6fdd9a6e",
   "metadata": {
    "slideshow": {
     "slide_type": "slide"
    }
   },
   "source": [
    "# Overview\n",
    "\n",
    "1. History\n",
    "2. Github \n",
    "3. Github actions\n",
    "4. Documentation \n",
    "5. Future"
   ]
  },
  {
   "cell_type": "markdown",
   "id": "fa4c319c",
   "metadata": {
    "slideshow": {
     "slide_type": "fragment"
    }
   },
   "source": [
    "\n",
    "* I am not a git/github expert. Suggestions for improvements are very welcome. \n"
   ]
  },
  {
   "cell_type": "markdown",
   "id": "4430560f",
   "metadata": {
    "slideshow": {
     "slide_type": "slide"
    }
   },
   "source": [
    "# History\n",
    "\n",
    "Hirlam uses/used [hirlam.org](https://hirlam.org/) with [trac](https://trac.edgewall.org/) for \n",
    "\n",
    "1. hosting of Harmonie repository \n",
    "   * svn (before CY43). \n",
    "   * git (CY43) self hosted gitolite \n",
    "2. Other repositories (Monitor, NWPtools)\n",
    "3. Harmonie System documentation (wiki) \n",
    "4. Training pages \n",
    "5. Meeting notes \n",
    "6. Others pages, e.g. validation for tagging \n",
    "7. Data portal (Monitor output) \n"
   ]
  },
  {
   "cell_type": "markdown",
   "id": "bd1a6b70",
   "metadata": {
    "slideshow": {
     "slide_type": "fragment"
    }
   },
   "source": [
    "We want to move away from self hosting"
   ]
  },
  {
   "cell_type": "markdown",
   "id": "a51f76b3",
   "metadata": {
    "slideshow": {
     "slide_type": "slide"
    }
   },
   "source": [
    "# Move to Github \n",
    "\n",
    "* Options considered: \n",
    "  * github\n",
    "  * gitlab \n",
    "  * bitbucket\n",
    "* No clear preference in system group \n",
    "\n",
    "* Hirlam github organization Dec 2019. Only for open source tools \n",
    "\n",
    "* Harmonie moved March 2021  \n",
    "\n"
   ]
  },
  {
   "cell_type": "markdown",
   "id": "6b571162",
   "metadata": {
    "slideshow": {
     "slide_type": "slide"
    }
   },
   "source": [
    "# Main repositories in Hirlam github organization\n",
    "\n",
    "![](assets/github_hirlam.png)\n",
    "\n",
    "\n"
   ]
  },
  {
   "cell_type": "markdown",
   "id": "21d7c9ac",
   "metadata": {
    "slideshow": {
     "slide_type": "fragment"
    }
   },
   "source": [
    "For AccordDaTools see ASW2022 [presentation](http://www.accord-nwp.org/IMG/pdf/eoin_whelan_accorddatools.pdf) by Eoin Whelan"
   ]
  },
  {
   "cell_type": "markdown",
   "id": "e8e4e126",
   "metadata": {
    "slideshow": {
     "slide_type": "slide"
    }
   },
   "source": [
    "# Fork branch pull request  workflow \n",
    "\n",
    "![](assets/git-workflow.png)\n",
    "\n",
    "https://developer.wordpress.org/block-editor/contributors/code/git-workflow/"
   ]
  },
  {
   "cell_type": "markdown",
   "id": "013af5e2",
   "metadata": {
    "slideshow": {
     "slide_type": "slide"
    }
   },
   "source": [
    "# Github PRs \n",
    "\n",
    "\n",
    "![](assets/github_prs.png)"
   ]
  },
  {
   "cell_type": "markdown",
   "id": "136fcb2a",
   "metadata": {
    "slideshow": {
     "slide_type": "slide"
    }
   },
   "source": [
    "# Continuous integration (Github Actions)\n",
    "\n",
    "\n",
    "* `push2hirlam.yml`  \n",
    "   * Pushes any commit in `Hirlam/Harmonie`  to hirlam.org (gitolite) \n",
    "\n",
    "* `documentation.yml`\n",
    "   * if changes in `docs` \n",
    "   * Create html pages. Push to [HarmonieSystemDocumentation](https://github.com/Hirlam/HarmonieSystemDocumentation) (public)\n",
    "\n",
    "* `compile.yml` \n",
    "  * If changes to `src/`, `util/`\n",
    "  * Run cmake in cloud. Checks e.g. proper project dependencies. \n",
    "\n",
    "* `Compathelper.yml`\n",
    "  * Runs monthly. Checks for new versions of Julia dependencies \n",
    "\n",
    "![](assets/ga_billing.png)\n"
   ]
  },
  {
   "cell_type": "markdown",
   "id": "859ca8a7",
   "metadata": {
    "slideshow": {
     "slide_type": "fragment"
    }
   },
   "source": [
    "Hopefully in the future: (Semi) automatic runs of the Harmonie testbed"
   ]
  },
  {
   "cell_type": "markdown",
   "id": "dfe9a4c8",
   "metadata": {
    "slideshow": {
     "slide_type": "slide"
    }
   },
   "source": [
    "# Teams \n",
    "\n",
    "![](assets/github_teams.png)\n",
    "\n",
    "Only system used actively"
   ]
  },
  {
   "cell_type": "markdown",
   "id": "22394a19",
   "metadata": {
    "slideshow": {
     "slide_type": "slide"
    }
   },
   "source": [
    "# Documentation "
   ]
  },
  {
   "cell_type": "markdown",
   "id": "caf3747f",
   "metadata": {
    "slideshow": {
     "slide_type": "slide"
    }
   },
   "source": [
    "# Why move system Documemntation\n",
    "\n",
    "Problems with the wiki on hirlam.org \n",
    "\n",
    "* Code and documentation are disconneced \n",
    "* No proper search.  Examples: [gl](https://hirlam.org/trac/search?q=gl&noquickjump=1&wiki=on) \n",
    "   [bator](https://hirlam.org/trac/search?q=bator&noquickjump=1&wiki=on)\n",
    "* No review of updates \n",
    "\n",
    "* Version control at single page level \n",
    "  * Duplication for tagged version \n",
    "  * Edits to \"tagged\" version\n",
    "  * Lost edits with new tag \n",
    "   \n",
    "* Not commonly used format \n",
    "* Documentation not public \n",
    "    \n",
    "Pros: \n",
    "* Not pdf \n"
   ]
  },
  {
   "cell_type": "markdown",
   "id": "ea93cb59",
   "metadata": {
    "slideshow": {
     "slide_type": "slide"
    }
   },
   "source": [
    "# New system documentation \n",
    "\n",
    "* Documentation now in `docs/` directory in Harmonie repository\n",
    "* All pages in Markdown\n",
    "* Code and documentation use same fork-branch-pull request workflow (with review).\n",
    "* Enforce documentation as part of PRs.\n",
    "* Proper search [bator](https://hirlam.github.io/HarmonieSystemDocumentation/dev/search/?q=bator)\n",
    "\n",
    "Technical: \n",
    "* HTML pages automatically regenerated by github action \n",
    "* HTML pages push to separate (public) [repository](https://github.com/Hirlam/HarmonieSystemDocumentation)\n",
    "* Previews of pages in Pull request \n",
    "* Github automatically starts webserver for HTML (github pages) \n",
    "* Google search console and Google analytics  \n"
   ]
  },
  {
   "cell_type": "markdown",
   "id": "cd7056f3",
   "metadata": {
    "slideshow": {
     "slide_type": "slide"
    }
   },
   "source": [
    "# Google Analytics \n",
    "\n",
    "![](./assets/ga_behavior.png)"
   ]
  },
  {
   "cell_type": "markdown",
   "id": "7663b5d7",
   "metadata": {
    "slideshow": {
     "slide_type": "slide"
    }
   },
   "source": [
    "# Remaining issue with hirlam.org move \n",
    "\n",
    "* Meeting notes  \n",
    "  * to Accord/on github?\n",
    "* Dataportal \n",
    "  * to UWC?  \n",
    "* Training pages \n",
    "  * git repository in Hirlam organization?\n",
    "* Validation pages \n",
    "  * to UWC? \n",
    "\n",
    "Avoid creating yet another platform"
   ]
  },
  {
   "cell_type": "markdown",
   "id": "e8fac36b",
   "metadata": {
    "slideshow": {
     "slide_type": "slide"
    }
   },
   "source": [
    "# Julia \n",
    "\n",
    "[Why we created Julia](https://julialang.org/blog/2012/02/why-we-created-julia/) (2012) \n",
    "\n",
    "_We want a language that's open source, with a liberal license. We want the speed of C with the dynamism of Ruby. We want a language that's homoiconic, with true macros like Lisp, but with obvious, familiar mathematical notation like Matlab. We want something as usable for general programming as Python, as easy for statistics as R, as natural for string processing as Perl, as powerful for linear algebra as Matlab, as good at gluing programs together as the shell. Something that is dirt simple to learn, yet keeps the most serious hackers happy. We want it interactive and we want it compiled._\n",
    "\n",
    "_(Did we mention it should be as fast as C?)_\n",
    "\n",
    "* [The Unreasonable Effectiveness of Multiple Dispatch](https://www.juliaopt.org/meetings/santiago2019/slides/stefan_karpinski.pdf)\n",
    "* Excellent [package manager](https://pkgdocs.julialang.org/v1/)\n",
    "\n",
    "* HPC [Celeste](https://www.nextplatform.com/2017/11/28/julia-language-delivers-petascale-hpc-performance/petascale) 2017 (NERSC, 650000 cores, 1.3 million threads, 1.54PF/s )     \n",
    "\n"
   ]
  },
  {
   "cell_type": "markdown",
   "id": "7d199522",
   "metadata": {
    "slideshow": {
     "slide_type": "slide"
    }
   },
   "source": [
    "# Thank you for your attention!"
   ]
  }
 ],
 "metadata": {
  "celltoolbar": "Slideshow",
  "kernelspec": {
   "display_name": "Julia 1.9.0-rc1",
   "language": "julia",
   "name": "julia-1.9"
  },
  "language_info": {
   "file_extension": ".jl",
   "mimetype": "application/julia",
   "name": "julia",
   "version": "1.9.0"
  }
 },
 "nbformat": 4,
 "nbformat_minor": 5
}
